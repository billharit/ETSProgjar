{
 "cells": [
  {
   "cell_type": "code",
   "execution_count": 2,
   "id": "6cdbdfbd-56f6-43ed-9cf7-fc7994b953f4",
   "metadata": {},
   "outputs": [],
   "source": [
    "import sys\n",
    "import socket\n",
    "import logging\n",
    "import json\n",
    "import os\n",
    "import ssl"
   ]
  },
  {
   "cell_type": "code",
   "execution_count": 3,
   "id": "6e95f1b7-ca92-4c32-9068-18318fed92f7",
   "metadata": {},
   "outputs": [],
   "source": [
    "DataPemain = {\n",
    "    '1': {'nomor': 1, 'nama': 'Pemain 1'},\n",
    "    '2': {'nomor': 2, 'nama': 'Pemain 2'},\n",
    "    '3': {'nomor': 3, 'nama': 'Pemain 3'},\n",
    "    '4': {'nomor': 4, 'nama': 'Pemain 4'},\n",
    "    '5': {'nomor': 5, 'nama': 'Pemain 5'},\n",
    "    '6': {'nomor': 6, 'nama': 'Pemain 6'},\n",
    "    '7': {'nomor': 7, 'nama': 'Pemain 7'},\n",
    "    '8': {'nomor': 8, 'nama': 'Pemain 8'},\n",
    "    '9': {'nomor': 9, 'nama': 'Pemain 9'},\n",
    "    '10': {'nomor': 10, 'nama': 'Pemain 10'},\n",
    "    '11': {'nomor': 11, 'nama': 'Pemain 11'},\n",
    "    '12': {'nomor': 12, 'nama': 'Pemain 12'},\n",
    "    '13': {'nomor': 13, 'nama': 'Pemain 13'},\n",
    "    '14': {'nomor': 14, 'nama': 'Pemain 14'},\n",
    "    '15': {'nomor': 15, 'nama': 'Pemain 15'},\n",
    "    '16': {'nomor': 16, 'nama': 'Pemain 16'},\n",
    "    '17': {'nomor': 17, 'nama': 'Pemain 17'},\n",
    "    '18': {'nomor': 18, 'nama': 'Pemain 18'},\n",
    "    '19': {'nomor': 19, 'nama': 'Pemain 19'},\n",
    "    '20': {'nomor': 20, 'nama': 'Pemain 20'},\n",
    "}"
   ]
  },
  {
   "cell_type": "code",
   "execution_count": 4,
   "id": "3eaddd56-6116-43f2-b44e-2e29a53b1897",
   "metadata": {},
   "outputs": [],
   "source": [
    "def versi():\n",
    "    return \"versi 0.0.1\""
   ]
  },
  {
   "cell_type": "code",
   "execution_count": 5,
   "id": "afa3ff84-74f2-4def-82d6-481d1e0c1278",
   "metadata": {},
   "outputs": [],
   "source": [
    "def proses_request(request_string):\n",
    "    #format request\n",
    "    # NAMACOMMAND spasi PARAMETER\n",
    "    cstring = request_string.split(\" \")\n",
    "    hasil = None\n",
    "    try:\n",
    "        command = cstring[0].strip()\n",
    "        if (command == 'getdatapemain'):\n",
    "            # getdata spasi parameter1\n",
    "            # parameter1 harus berupa nomor pemain\n",
    "            logging.warning(\"getdata\")\n",
    "            nomorpemain = cstring[1].strip()\n",
    "            try:\n",
    "                logging.warning(f\"data {nomorpemain} ketemu\")\n",
    "                hasil = alldata[nomorpemain]\n",
    "            except:\n",
    "                hasil = None\n",
    "        elif (command == 'versi'):\n",
    "            hasil = versi()\n",
    "    except:\n",
    "        hasil = None\n",
    "    return hasil"
   ]
  },
  {
   "cell_type": "code",
   "execution_count": 6,
   "id": "a6f4e67e-748f-422a-810f-21c19a7f8fdb",
   "metadata": {},
   "outputs": [],
   "source": [
    "def serialisasi(a):\n",
    "    #print(a)\n",
    "    #serialized = str(dicttoxml.dicttoxml(a))\n",
    "    serialized =  json.dumps(a)\n",
    "    logging.warning(\"serialized data\")\n",
    "    logging.warning(serialized)\n",
    "    return serialized"
   ]
  },
  {
   "cell_type": "code",
   "execution_count": 7,
   "id": "c41d7a16-8ba5-439e-9f31-3c5e235e9c5a",
   "metadata": {},
   "outputs": [],
   "source": [
    "def run_server(server_address,is_secure=False):\n",
    "    # ------------------------------ SECURE SOCKET INITIALIZATION ----\n",
    "    if is_secure == True:\n",
    "        print(os.getcwd())\n",
    "        cert_location = os.getcwd() + '/certs/'\n",
    "        socket_context = ssl.SSLContext(ssl.PROTOCOL_TLS_SERVER)\n",
    "        socket_context.load_cert_chain(\n",
    "            certfile=cert_location + 'domain.crt',\n",
    "            keyfile=cert_location + 'domain.key'\n",
    "        )\n",
    "    # ---------------------------------\n",
    "\n",
    "    #--- INISIALISATION ---\n",
    "    sock = socket.socket(socket.AF_INET, socket.SOCK_STREAM)\n",
    "    sock.setsockopt(socket.SOL_SOCKET, socket.SO_REUSEADDR, 1)\n",
    "    # Bind the socket to the port\n",
    "    logging.warning(f\"starting up on {server_address}\")\n",
    "    sock.bind(server_address)\n",
    "    # Listen for incoming connections\n",
    "    sock.listen(1000)\n",
    "\n",
    "\n",
    "    while True:\n",
    "        # Wait for a connection\n",
    "        logging.warning(\"waiting for a connection\")\n",
    "        koneksi, client_address = sock.accept()\n",
    "        logging.warning(f\"Incoming connection from {client_address}\")\n",
    "        # Receive the data in small chunks and retransmit it\n",
    "\n",
    "        try:\n",
    "            if is_secure == True:\n",
    "                connection = socket_context.wrap_socket(koneksi, server_side=True)\n",
    "            else:\n",
    "                connection = koneksi\n",
    "\n",
    "            selesai=False\n",
    "            data_received=\"\" #string\n",
    "            while True:\n",
    "                data = connection.recv(32)\n",
    "                logging.warning(f\"received {data}\")\n",
    "                if data:\n",
    "                    data_received += data.decode()\n",
    "                    if \"\\r\\n\\r\\n\" in data_received:\n",
    "                        selesai=True\n",
    "\n",
    "                    if (selesai==True):\n",
    "                        hasil = proses_request(data_received)\n",
    "                        logging.warning(f\"hasil proses: {hasil}\")\n",
    "\n",
    "                        #hasil bisa berupa tipe dictionary\n",
    "                        #harus diserialisasi dulu sebelum dikirim via network\n",
    "                        # Send data\n",
    "                        # some data structure may have complex structure\n",
    "                        # how to send such data structure through the network ?\n",
    "                        # use serialization\n",
    "                        #  example : json, xml\n",
    "\n",
    "                        # complex structure, nested dict\n",
    "                        # all data that will be sent through network has to be encoded into bytes type\"\n",
    "                        # in this case, the message (type: string) will be encoded to bytes by calling encode\n",
    "\n",
    "                        hasil = serialisasi(hasil)\n",
    "                        hasil += \"\\r\\n\\r\\n\"\n",
    "                        connection.sendall(hasil.encode())\n",
    "                        selesai = False\n",
    "                        data_received = \"\"  # string\n",
    "                        break\n",
    "\n",
    "                else:\n",
    "                   logging.warning(f\"no more data from {client_address}\")\n",
    "                   break\n",
    "            # Clean up the connection\n",
    "        except ssl.SSLError as error_ssl:\n",
    "            logging.warning(f\"SSL error: {str(error_ssl)}\")\n"
   ]
  },
  {
   "cell_type": "code",
   "execution_count": null,
   "id": "8c90d038",
   "metadata": {},
   "outputs": [
    {
     "name": "stderr",
     "output_type": "stream",
     "text": [
      "WARNING:root:starting up on ('0.0.0.0', 12000)\n",
      "WARNING:root:waiting for a connection\n"
     ]
    }
   ],
   "source": [
    "if __name__=='__main__':\n",
    "    try:\n",
    "        run_server(('0.0.0.0', 12000),is_secure=False)\n",
    "    except KeyboardInterrupt:\n",
    "        logging.warning(\"Control-C: Program berhenti\")\n",
    "        exit(0)\n",
    "    finally:\n",
    "        logging.warning(\"seelsai\")\n"
   ]
  },
  {
   "cell_type": "code",
   "execution_count": null,
   "id": "c8b2ab81-f87e-4386-b972-8c0c82ef985c",
   "metadata": {},
   "outputs": [],
   "source": []
  }
 ],
 "metadata": {
  "kernelspec": {
   "display_name": "Python 3 (ipykernel)",
   "language": "python",
   "name": "python3"
  },
  "language_info": {
   "codemirror_mode": {
    "name": "ipython",
    "version": 3
   },
   "file_extension": ".py",
   "mimetype": "text/x-python",
   "name": "python",
   "nbconvert_exporter": "python",
   "pygments_lexer": "ipython3",
   "version": "3.9.7"
  }
 },
 "nbformat": 4,
 "nbformat_minor": 5
}
